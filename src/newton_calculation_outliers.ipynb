{
 "cells": [
  {
   "cell_type": "code",
   "execution_count": 142,
   "metadata": {},
   "outputs": [],
   "source": [
    "import numpy as np\n",
    "import pandas as pd\n",
    "import matplotlib.pyplot as plt\n",
    "from scipy import stats\n",
    "\n",
    "file_path = \"/Users/antonis/Desktop/Artuino/artuino/data/slow_fast.csv\"\n",
    "df = pd.read_csv(file_path)"
   ]
  },
  {
   "cell_type": "code",
   "execution_count": 143,
   "metadata": {},
   "outputs": [
    {
     "data": {
      "text/html": [
       "<div>\n",
       "<style scoped>\n",
       "    .dataframe tbody tr th:only-of-type {\n",
       "        vertical-align: middle;\n",
       "    }\n",
       "\n",
       "    .dataframe tbody tr th {\n",
       "        vertical-align: top;\n",
       "    }\n",
       "\n",
       "    .dataframe thead th {\n",
       "        text-align: right;\n",
       "    }\n",
       "</style>\n",
       "<table border=\"1\" class=\"dataframe\">\n",
       "  <thead>\n",
       "    <tr style=\"text-align: right;\">\n",
       "      <th></th>\n",
       "      <th>d</th>\n",
       "      <th>y</th>\n",
       "      <th>p</th>\n",
       "      <th>r</th>\n",
       "      <th>a_x</th>\n",
       "      <th>a_y</th>\n",
       "      <th>a_z</th>\n",
       "    </tr>\n",
       "  </thead>\n",
       "  <tbody>\n",
       "    <tr>\n",
       "      <th>count</th>\n",
       "      <td>164.000000</td>\n",
       "      <td>164.000000</td>\n",
       "      <td>164.000000</td>\n",
       "      <td>164.000000</td>\n",
       "      <td>164.000000</td>\n",
       "      <td>164.000000</td>\n",
       "      <td>164.000000</td>\n",
       "    </tr>\n",
       "    <tr>\n",
       "      <th>mean</th>\n",
       "      <td>449.993902</td>\n",
       "      <td>-6.821951</td>\n",
       "      <td>-5.363354</td>\n",
       "      <td>0.789939</td>\n",
       "      <td>42.762195</td>\n",
       "      <td>708.676829</td>\n",
       "      <td>-296.317073</td>\n",
       "    </tr>\n",
       "    <tr>\n",
       "      <th>std</th>\n",
       "      <td>45.862625</td>\n",
       "      <td>20.026838</td>\n",
       "      <td>7.551791</td>\n",
       "      <td>6.128533</td>\n",
       "      <td>2972.293981</td>\n",
       "      <td>2894.088012</td>\n",
       "      <td>2744.314727</td>\n",
       "    </tr>\n",
       "    <tr>\n",
       "      <th>min</th>\n",
       "      <td>328.000000</td>\n",
       "      <td>-70.820000</td>\n",
       "      <td>-42.860000</td>\n",
       "      <td>-10.140000</td>\n",
       "      <td>-6134.000000</td>\n",
       "      <td>-11618.000000</td>\n",
       "      <td>-13651.000000</td>\n",
       "    </tr>\n",
       "    <tr>\n",
       "      <th>25%</th>\n",
       "      <td>413.000000</td>\n",
       "      <td>-23.707500</td>\n",
       "      <td>-11.150000</td>\n",
       "      <td>-3.670000</td>\n",
       "      <td>-603.750000</td>\n",
       "      <td>-416.000000</td>\n",
       "      <td>-679.000000</td>\n",
       "    </tr>\n",
       "    <tr>\n",
       "      <th>50%</th>\n",
       "      <td>446.000000</td>\n",
       "      <td>-7.995000</td>\n",
       "      <td>-5.705000</td>\n",
       "      <td>1.010000</td>\n",
       "      <td>-154.000000</td>\n",
       "      <td>95.500000</td>\n",
       "      <td>-86.000000</td>\n",
       "    </tr>\n",
       "    <tr>\n",
       "      <th>75%</th>\n",
       "      <td>490.250000</td>\n",
       "      <td>10.210000</td>\n",
       "      <td>0.180000</td>\n",
       "      <td>4.680000</td>\n",
       "      <td>439.000000</td>\n",
       "      <td>959.750000</td>\n",
       "      <td>392.250000</td>\n",
       "    </tr>\n",
       "    <tr>\n",
       "      <th>max</th>\n",
       "      <td>580.000000</td>\n",
       "      <td>62.100000</td>\n",
       "      <td>12.690000</td>\n",
       "      <td>39.510000</td>\n",
       "      <td>23653.000000</td>\n",
       "      <td>9857.000000</td>\n",
       "      <td>27798.000000</td>\n",
       "    </tr>\n",
       "  </tbody>\n",
       "</table>\n",
       "</div>"
      ],
      "text/plain": [
       "                d           y           p           r           a_x  \\\n",
       "count  164.000000  164.000000  164.000000  164.000000    164.000000   \n",
       "mean   449.993902   -6.821951   -5.363354    0.789939     42.762195   \n",
       "std     45.862625   20.026838    7.551791    6.128533   2972.293981   \n",
       "min    328.000000  -70.820000  -42.860000  -10.140000  -6134.000000   \n",
       "25%    413.000000  -23.707500  -11.150000   -3.670000   -603.750000   \n",
       "50%    446.000000   -7.995000   -5.705000    1.010000   -154.000000   \n",
       "75%    490.250000   10.210000    0.180000    4.680000    439.000000   \n",
       "max    580.000000   62.100000   12.690000   39.510000  23653.000000   \n",
       "\n",
       "                a_y           a_z  \n",
       "count    164.000000    164.000000  \n",
       "mean     708.676829   -296.317073  \n",
       "std     2894.088012   2744.314727  \n",
       "min   -11618.000000 -13651.000000  \n",
       "25%     -416.000000   -679.000000  \n",
       "50%       95.500000    -86.000000  \n",
       "75%      959.750000    392.250000  \n",
       "max     9857.000000  27798.000000  "
      ]
     },
     "execution_count": 143,
     "metadata": {},
     "output_type": "execute_result"
    }
   ],
   "source": [
    "df.describe()"
   ]
  },
  {
   "cell_type": "code",
   "execution_count": 144,
   "metadata": {},
   "outputs": [],
   "source": [
    "# removing first 90 observations\n",
    "df = df[90:].reset_index()\n",
    "# removing outliers\n",
    "df_filtered = df\n",
    "for col in ['a_x', 'a_y', 'a_z']:\n",
    "    df_filtered = df_filtered[np.abs(stats.zscore(df_filtered[col])) < 3]\n",
    "df_filtered = df_filtered.reset_index()"
   ]
  },
  {
   "cell_type": "code",
   "execution_count": 147,
   "metadata": {},
   "outputs": [
    {
     "data": {
      "text/plain": [
       "array([ 0.36910086,  0.44478645,  0.63324359,  0.57193826,  0.63929844,\n",
       "        0.66200412,  0.64308272,  0.64308272,  0.58707538,  0.73996029,\n",
       "        0.75131313,  0.60145564,  0.22756879, -0.01084085, -0.27801101,\n",
       "       -0.44527618, -0.40591967,  0.1980514 ,  0.0708996 , -0.03808766,\n",
       "       -0.10544785, -1.19834789, -1.93476876, -2.4070469 , -2.56371609,\n",
       "       -2.45397197,  0.59994193,  0.93977027,  1.15471737,  1.1713682 ,\n",
       "        1.21450899,  0.05576248,  0.06862903,  0.13296179,  0.23135307,\n",
       "        0.32596006,  0.75131313,  0.7293643 ,  0.57572254,  0.37969684,\n",
       "        0.23816477, -0.28028158, -0.40591967, -0.56561629, -0.57091428,\n",
       "       -0.46419758, -2.69995016, -2.58263749, -2.15047272, -1.93098448,\n",
       "        1.36360962,  1.37344875,  1.22737554,  1.08735719,  1.01924015,\n",
       "        0.07014274,  0.11782467,  0.21243167,  0.3183915 ,  0.4129985 ,\n",
       "        0.06635846, -0.10393414, -0.39078255, -0.65719586,  0.25103132,\n",
       "        0.29190155,  0.25557246,  0.22454136])"
      ]
     },
     "execution_count": 147,
     "metadata": {},
     "output_type": "execute_result"
    }
   ],
   "source": [
    "stats.zscore(df_filtered[col])"
   ]
  },
  {
   "cell_type": "code",
   "execution_count": 145,
   "metadata": {},
   "outputs": [
    {
     "data": {
      "image/png": "[encoded data removed]",
      "text/plain": [
       "<Figure size 432x288 with 1 Axes>"
      ]
     },
     "metadata": {
      "needs_background": "light"
     },
     "output_type": "display_data"
    }
   ],
   "source": [
    "velocity = []\n",
    "v0 = 0\n",
    "\n",
    "for i in df.index[1:]:\n",
    "    event_0 = df.iloc[i - 1]\n",
    "    event_t = df.iloc[i]\n",
    "    dt = (pd.to_datetime(event_t['timestamp']) - pd.to_datetime(event_0['timestamp'])).total_seconds()\n",
    "    at = (event_t['a_x']**2 + event_t['a_y']**2)**1/2\n",
    "    vt = at*dt*(10**-3)\n",
    "    velocity.append(vt)\n",
    "velocity = np.array(velocity)\n",
    "\n",
    "plt.plot(velocity)\n",
    "plt.ylim()\n",
    "plt.show()"
   ]
  },
  {
   "cell_type": "code",
   "execution_count": 146,
   "metadata": {},
   "outputs": [
    {
     "data": {
      "image/png": "[encoded data removed]",
      "text/plain": [
       "<Figure size 432x288 with 1 Axes>"
      ]
     },
     "metadata": {
      "needs_background": "light"
     },
     "output_type": "display_data"
    }
   ],
   "source": [
    "velocity = []\n",
    "v0 = 0\n",
    "\n",
    "for i in df_filtered.index[1:]:\n",
    "    event_0 = df_filtered.iloc[i - 1]\n",
    "    event_t = df_filtered.iloc[i]\n",
    "    dt = (pd.to_datetime(event_t['timestamp']) - pd.to_datetime(event_0['timestamp'])).total_seconds()\n",
    "    at = (event_t['a_x']**2 + event_t['a_y']**2)**1/2\n",
    "    vt = at*dt*(10**-3)\n",
    "    velocity.append(vt)\n",
    "velocity = np.array(velocity)\n",
    "\n",
    "plt.plot(velocity)\n",
    "plt.ylim()\n",
    "plt.show()"
   ]
  },
  {
   "cell_type": "code",
   "execution_count": 129,
   "metadata": {},
   "outputs": [
    {
     "data": {
      "text/plain": [
       "RangeIndex(start=1, stop=68, step=1)"
      ]
     },
     "execution_count": 129,
     "metadata": {},
     "output_type": "execute_result"
    }
   ],
   "source": [
    "df_filtered.index[1:]"
   ]
  },
  {
   "cell_type": "code",
   "execution_count": 130,
   "metadata": {},
   "outputs": [
    {
     "data": {
      "text/plain": [
       "(100.0, 200.0)"
      ]
     },
     "execution_count": 130,
     "metadata": {},
     "output_type": "execute_result"
    },
    {
     "data": {
      "image/png": "[encoded data removed]",
      "text/plain": [
       "<Figure size 432x288 with 1 Axes>"
      ]
     },
     "metadata": {
      "needs_background": "light"
     },
     "output_type": "display_data"
    }
   ],
   "source": [
    "plt.plot(df['a_x'], label = 'x')\n",
    "plt.plot(df['a_y'], label = 'y')\n",
    "plt.plot(df['a_z'], label = 'z')\n",
    "plt.ylim()\n",
    "plt.xlim(100,200)\n",
    "plt.legend()\n",
    "plt.xlim()"
   ]
  },
  {
   "cell_type": "code",
   "execution_count": 28,
   "metadata": {},
   "outputs": [
    {
     "data": {
      "text/plain": [
       "DescribeResult(nobs=225, minmax=(0.19056700000000001, 62598.25539), mean=1185.7020983000002, variance=33984108.81698387, skewness=8.163708790525828, kurtosis=71.62254670946135)"
      ]
     },
     "execution_count": 28,
     "metadata": {},
     "output_type": "execute_result"
    }
   ],
   "source": [
    "from scipy import stats\n",
    "stats.describe(velocity)"
   ]
  },
  {
   "cell_type": "code",
   "execution_count": 32,
   "metadata": {},
   "outputs": [
    {
     "data": {
      "text/plain": [
       "{'whiskers': [<matplotlib.lines.Line2D at 0x109145470>,\n",
       "  <matplotlib.lines.Line2D at 0x109145908>],\n",
       " 'caps': [<matplotlib.lines.Line2D at 0x109145d30>,\n",
       "  <matplotlib.lines.Line2D at 0x10914d198>],\n",
       " 'boxes': [<matplotlib.lines.Line2D at 0x109145320>],\n",
       " 'medians': [<matplotlib.lines.Line2D at 0x10914d5c0>],\n",
       " 'fliers': [<matplotlib.lines.Line2D at 0x10914d9e8>],\n",
       " 'means': []}"
      ]
     },
     "execution_count": 32,
     "metadata": {},
     "output_type": "execute_result"
    },
    {
     "data": {
      "image/png": "[encoded data removed]",
      "text/plain": [
       "<Figure size 432x288 with 1 Axes>"
      ]
     },
     "metadata": {
      "needs_background": "light"
     },
     "output_type": "display_data"
    }
   ],
   "source": [
    "plt.boxplot(velocity[velocity < 5000])"
   ]
  },
  {
   "cell_type": "code",
   "execution_count": null,
   "metadata": {},
   "outputs": [],
   "source": []
  }
 ],
 "metadata": {
  "kernelspec": {
   "display_name": "Python 3",
   "language": "python",
   "name": "python3"
  },
  "language_info": {
   "codemirror_mode": {
    "name": "ipython",
    "version": 3
   },
   "file_extension": ".py",
   "mimetype": "text/x-python",
   "name": "python",
   "nbconvert_exporter": "python",
   "pygments_lexer": "ipython3",
   "version": "3.6.5"
  }
 },
 "nbformat": 4,
 "nbformat_minor": 2
}
