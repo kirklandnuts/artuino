{
 "cells": [
  {
   "cell_type": "code",
   "execution_count": 35,
   "metadata": {},
   "outputs": [],
   "source": [
    "import os\n",
    "import pandas as pd"
   ]
  },
  {
   "cell_type": "markdown",
   "metadata": {},
   "source": [
    "Generating filepaths for input and output."
   ]
  },
  {
   "cell_type": "code",
   "execution_count": 39,
   "metadata": {},
   "outputs": [
    {
     "data": {
      "text/plain": [
       "[('../data/di2.csv', '../data/di2_calibrated.csv'),\n",
       " ('../data/di4.csv', '../data/di4_calibrated.csv'),\n",
       " ('../data/di6.csv', '../data/di6_calibrated.csv'),\n",
       " ('../data/di8.csv', '../data/di8_calibrated.csv'),\n",
       " ('../data/di10.csv', '../data/di10_calibrated.csv')]"
      ]
     },
     "execution_count": 39,
     "metadata": {},
     "output_type": "execute_result"
    }
   ],
   "source": [
    "DATA_DIR = '../data/'\n",
    "filepaths = [(os.path.join(DATA_DIR,'di{}.csv'.format(i)), os.path.join(DATA_DIR,'di{}_calibrated.csv'.format(i))) for i in [2, 4, 6, 8, 10]]\n",
    "filepaths"
   ]
  },
  {
   "cell_type": "markdown",
   "metadata": {},
   "source": [
    "In each file, calibrating each of the acceleration columns by subtracting from it the its mean."
   ]
  },
  {
   "cell_type": "code",
   "execution_count": 40,
   "metadata": {},
   "outputs": [],
   "source": [
    "for (in_path, out_path) in filepaths:\n",
    "    df = pd.read_csv(in_path)\n",
    "    df[['a_x_calibration','a_y_calibration','a_z_calibration']] = df[['a_x','a_y','a_z']].apply(lambda x: x - x.mean())\n",
    "    df.to_csv(out_path, index=False)"
   ]
  }
 ],
 "metadata": {
  "kernelspec": {
   "display_name": "Python 3",
   "language": "python",
   "name": "python3"
  },
  "language_info": {
   "codemirror_mode": {
    "name": "ipython",
    "version": 3
   },
   "file_extension": ".py",
   "mimetype": "text/x-python",
   "name": "python",
   "nbconvert_exporter": "python",
   "pygments_lexer": "ipython3",
   "version": "3.7.2"
  }
 },
 "nbformat": 4,
 "nbformat_minor": 2
}
